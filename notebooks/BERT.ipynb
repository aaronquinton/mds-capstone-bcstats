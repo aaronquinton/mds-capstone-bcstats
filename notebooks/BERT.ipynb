{
 "cells": [
  {
   "cell_type": "markdown",
   "metadata": {},
   "source": [
    "# BERT\n",
    "This notebook is designed to be show how to set up BERT folder and what parameters can be tuned using BERT model. \n",
    "\n",
    "## Instructions for Use\n",
    "This notebook is designed to be show how to set up BERT folder and what parameters can be tuned using BERT model. \n",
    "* BERT requries very specific folders and files structure",
    "* The training data and test data must follow specific formatting as shown below.\n",
    "* The parameters can be tuned/changed and it may change the running time accordingly, i.e. the bigger number of `train_batch_size`, the less time it may take to run, and the less `num_train_epochs`, the less time it may take to run. "
   ]
  },
  {
   "cell_type": "code",
   "execution_count": 2,
   "metadata": {},
   "outputs": [],
   "source": [
    "import os"
   ]
  },
  {
   "cell_type": "markdown",
   "metadata": {},
   "source": [
    "#### file directory for Bert model specific\n",
    "```\n",
    "├── BERT_method\n",
    "│   ├── bert                      <- very thing Bert related is stored in this folder.\n",
    "|       |          Download and save the pre-trained model from official BERT Github page:\n",
    "|       |                             https://github.com/google-research/bert\n",
    "|       ├── data          <- Make sure all the .tsv files are in a folder named “data”\n",
    "│       ├── bert_output <- create the folder “bert_output” where the fine tuned model will\n",
    "|       |                    be saved and test results are generated under the name “test_results.tsv“\n",
    "│       └── cased_L-12_H-768_A-12 <- unzip the downloaded pre-trained BERT model in the directory \n",
    "│\n",
    "├── notebooks      \n",
    "|...\n",
    "```"
   ]
  },
  {
   "cell_type": "code",
   "execution_count": 2,
   "metadata": {},
   "outputs": [
    {
     "data": {
      "text/plain": [
       "'C:\\\\Users\\\\fanfan\\\\Documents\\\\Capstone\\\\DSCI_591_capstone-BCStats\\\\notebooks'"
      ]
     },
     "execution_count": 2,
     "metadata": {},
     "output_type": "execute_result"
    }
   ],
   "source": [
    "# check current working directory\n",
    "os.getcwd() "
   ]
  },
  {
   "cell_type": "raw",
   "metadata": {},
   "source": []
  },
  {
   "cell_type": "code",
   "execution_count": 7,
   "metadata": {},
   "outputs": [
    {
     "data": {
      "text/plain": [
       "'/Users/aaronquinton/Documents/UBC-MDS/Capstone/BCstats/BERT_method/bert'"
      ]
     },
     "execution_count": 7,
     "metadata": {},
     "output_type": "execute_result"
    }
   ],
   "source": [
    "# # change the working directory to the bert directory\n",
    "#os.chdir(\"bert\")\n",
    "os.getcwd()"
   ]
  },
  {
   "cell_type": "code",
   "execution_count": 12,
   "metadata": {},
   "outputs": [
    {
     "name": "stdout",
     "output_type": "stream",
     "text": [
      "CONDUCT.md   README.md    \u001b[34mdata\u001b[m\u001b[m/        \u001b[34mnotebooks\u001b[m\u001b[m/   \u001b[34mreports\u001b[m\u001b[m/\r\n",
      "Makefile     TEAMWORK.md  \u001b[34mmodels\u001b[m\u001b[m/      \u001b[34mreferences\u001b[m\u001b[m/  \u001b[34msrc\u001b[m\u001b[m/\r\n"
     ]
    }
   ],
   "source": [
    "ls ../../DSCI_591_capstone-BCStats/"
   ]
  },
  {
   "cell_type": "code",
   "execution_count": 13,
   "metadata": {},
   "outputs": [],
   "source": [
    "# load packages\n",
    "import pandas as pd\n",
    "import numpy as np\n",
    "import sklearn.metrics as metrics\n",
    "from sklearn.preprocessing import LabelEncoder\n",
    "from sklearn.model_selection import train_test_split"
   ]
  },
  {
   "cell_type": "code",
   "execution_count": 14,
   "metadata": {},
   "outputs": [
    {
     "data": {
      "text/html": [
       "<div>\n",
       "<style scoped>\n",
       "    .dataframe tbody tr th:only-of-type {\n",
       "        vertical-align: middle;\n",
       "    }\n",
       "\n",
       "    .dataframe tbody tr th {\n",
       "        vertical-align: top;\n",
       "    }\n",
       "\n",
       "    .dataframe thead th {\n",
       "        text-align: right;\n",
       "    }\n",
       "</style>\n",
       "<table border=\"1\" class=\"dataframe\">\n",
       "  <thead>\n",
       "    <tr style=\"text-align: right;\">\n",
       "      <th></th>\n",
       "      <th>_telkey</th>\n",
       "      <th>2018 Comment</th>\n",
       "      <th>Code 1</th>\n",
       "      <th>Code 2</th>\n",
       "      <th>Code 3</th>\n",
       "      <th>Code 4</th>\n",
       "      <th>Code 5</th>\n",
       "      <th>CPD</th>\n",
       "      <th>CB</th>\n",
       "      <th>EWC</th>\n",
       "      <th>...</th>\n",
       "      <th>VMG_Improve_collaboration</th>\n",
       "      <th>VMG_Improve_program_implementation</th>\n",
       "      <th>VMG_Public_interest_and_service_delivery</th>\n",
       "      <th>VMG_Review_funding_or_budget</th>\n",
       "      <th>VMG_Keep_politics_out_of_work</th>\n",
       "      <th>VMG_other</th>\n",
       "      <th>OTH_Other_related</th>\n",
       "      <th>OTH_Positive_comments</th>\n",
       "      <th>OTH_Survey_feedback</th>\n",
       "      <th>Unrelated</th>\n",
       "    </tr>\n",
       "  </thead>\n",
       "  <tbody>\n",
       "    <tr>\n",
       "      <th>0</th>\n",
       "      <td>192723-544650</td>\n",
       "      <td>I would suggest having a developmental growth ...</td>\n",
       "      <td>62</td>\n",
       "      <td>13</td>\n",
       "      <td>NaN</td>\n",
       "      <td>NaN</td>\n",
       "      <td>NaN</td>\n",
       "      <td>1</td>\n",
       "      <td>0</td>\n",
       "      <td>0</td>\n",
       "      <td>...</td>\n",
       "      <td>0</td>\n",
       "      <td>0</td>\n",
       "      <td>0</td>\n",
       "      <td>0</td>\n",
       "      <td>0</td>\n",
       "      <td>0</td>\n",
       "      <td>0</td>\n",
       "      <td>0</td>\n",
       "      <td>0</td>\n",
       "      <td>0</td>\n",
       "    </tr>\n",
       "    <tr>\n",
       "      <th>1</th>\n",
       "      <td>188281-540434</td>\n",
       "      <td>Base decisions regarding fish and wildlife on ...</td>\n",
       "      <td>116</td>\n",
       "      <td>NaN</td>\n",
       "      <td>NaN</td>\n",
       "      <td>NaN</td>\n",
       "      <td>NaN</td>\n",
       "      <td>0</td>\n",
       "      <td>0</td>\n",
       "      <td>0</td>\n",
       "      <td>...</td>\n",
       "      <td>0</td>\n",
       "      <td>0</td>\n",
       "      <td>0</td>\n",
       "      <td>0</td>\n",
       "      <td>1</td>\n",
       "      <td>0</td>\n",
       "      <td>0</td>\n",
       "      <td>0</td>\n",
       "      <td>0</td>\n",
       "      <td>0</td>\n",
       "    </tr>\n",
       "    <tr>\n",
       "      <th>2</th>\n",
       "      <td>174789-230694</td>\n",
       "      <td>Get rid of Leading Workplace Strategies and gi...</td>\n",
       "      <td>51</td>\n",
       "      <td>NaN</td>\n",
       "      <td>NaN</td>\n",
       "      <td>NaN</td>\n",
       "      <td>NaN</td>\n",
       "      <td>0</td>\n",
       "      <td>0</td>\n",
       "      <td>0</td>\n",
       "      <td>...</td>\n",
       "      <td>0</td>\n",
       "      <td>0</td>\n",
       "      <td>0</td>\n",
       "      <td>0</td>\n",
       "      <td>0</td>\n",
       "      <td>0</td>\n",
       "      <td>0</td>\n",
       "      <td>0</td>\n",
       "      <td>0</td>\n",
       "      <td>0</td>\n",
       "    </tr>\n",
       "    <tr>\n",
       "      <th>3</th>\n",
       "      <td>185914-180608</td>\n",
       "      <td>We are the lowest paid in Canada with a worklo...</td>\n",
       "      <td>24</td>\n",
       "      <td>62</td>\n",
       "      <td>NaN</td>\n",
       "      <td>NaN</td>\n",
       "      <td>NaN</td>\n",
       "      <td>0</td>\n",
       "      <td>1</td>\n",
       "      <td>0</td>\n",
       "      <td>...</td>\n",
       "      <td>0</td>\n",
       "      <td>0</td>\n",
       "      <td>0</td>\n",
       "      <td>0</td>\n",
       "      <td>0</td>\n",
       "      <td>0</td>\n",
       "      <td>0</td>\n",
       "      <td>0</td>\n",
       "      <td>0</td>\n",
       "      <td>0</td>\n",
       "    </tr>\n",
       "    <tr>\n",
       "      <th>4</th>\n",
       "      <td>189099-732978</td>\n",
       "      <td>Official acknowledgement of the limited divers...</td>\n",
       "      <td>35</td>\n",
       "      <td>62</td>\n",
       "      <td>NaN</td>\n",
       "      <td>NaN</td>\n",
       "      <td>NaN</td>\n",
       "      <td>0</td>\n",
       "      <td>0</td>\n",
       "      <td>1</td>\n",
       "      <td>...</td>\n",
       "      <td>0</td>\n",
       "      <td>0</td>\n",
       "      <td>0</td>\n",
       "      <td>0</td>\n",
       "      <td>0</td>\n",
       "      <td>0</td>\n",
       "      <td>0</td>\n",
       "      <td>0</td>\n",
       "      <td>0</td>\n",
       "      <td>0</td>\n",
       "    </tr>\n",
       "  </tbody>\n",
       "</table>\n",
       "<p>5 rows × 81 columns</p>\n",
       "</div>"
      ],
      "text/plain": [
       "         _telkey                                       2018 Comment  Code 1  \\\n",
       "0  192723-544650  I would suggest having a developmental growth ...      62   \n",
       "1  188281-540434  Base decisions regarding fish and wildlife on ...     116   \n",
       "2  174789-230694  Get rid of Leading Workplace Strategies and gi...      51   \n",
       "3  185914-180608  We are the lowest paid in Canada with a worklo...      24   \n",
       "4  189099-732978  Official acknowledgement of the limited divers...      35   \n",
       "\n",
       "  Code 2 Code 3 Code 4 Code 5  CPD  CB  EWC    ...      \\\n",
       "0     13    NaN    NaN    NaN    1   0    0    ...       \n",
       "1    NaN    NaN    NaN    NaN    0   0    0    ...       \n",
       "2    NaN    NaN    NaN    NaN    0   0    0    ...       \n",
       "3     62    NaN    NaN    NaN    0   1    0    ...       \n",
       "4     62    NaN    NaN    NaN    0   0    1    ...       \n",
       "\n",
       "   VMG_Improve_collaboration  VMG_Improve_program_implementation  \\\n",
       "0                          0                                   0   \n",
       "1                          0                                   0   \n",
       "2                          0                                   0   \n",
       "3                          0                                   0   \n",
       "4                          0                                   0   \n",
       "\n",
       "   VMG_Public_interest_and_service_delivery  VMG_Review_funding_or_budget  \\\n",
       "0                                         0                             0   \n",
       "1                                         0                             0   \n",
       "2                                         0                             0   \n",
       "3                                         0                             0   \n",
       "4                                         0                             0   \n",
       "\n",
       "   VMG_Keep_politics_out_of_work  VMG_other  OTH_Other_related  \\\n",
       "0                              0          0                  0   \n",
       "1                              1          0                  0   \n",
       "2                              0          0                  0   \n",
       "3                              0          0                  0   \n",
       "4                              0          0                  0   \n",
       "\n",
       "   OTH_Positive_comments  OTH_Survey_feedback  Unrelated  \n",
       "0                      0                    0          0  \n",
       "1                      0                    0          0  \n",
       "2                      0                    0          0  \n",
       "3                      0                    0          0  \n",
       "4                      0                    0          0  \n",
       "\n",
       "[5 rows x 81 columns]"
      ]
     },
     "execution_count": 14,
     "metadata": {},
     "output_type": "execute_result"
    }
   ],
   "source": [
    "# read in 2018 qualitative data\n",
    "df_2018 = pd.read_csv(\"../../DSCI_591_capstone-BCStats/data/interim/train_2018-qualitative-data.csv\")\n",
    "df_2018.head()\n",
    "#df_2018['Unnamed: 0']"
   ]
  },
  {
   "cell_type": "code",
   "execution_count": 15,
   "metadata": {},
   "outputs": [
    {
     "data": {
      "text/plain": [
       "['CPD',\n",
       " 'CB',\n",
       " 'EWC',\n",
       " 'Exec',\n",
       " 'FWE',\n",
       " 'SP',\n",
       " 'RE',\n",
       " 'Sup',\n",
       " 'SW',\n",
       " 'TEPE',\n",
       " 'VMG',\n",
       " 'OTH']"
      ]
     },
     "execution_count": 15,
     "metadata": {},
     "output_type": "execute_result"
    }
   ],
   "source": [
    "categories = df_2018.loc[:,'CPD':'OTH'].columns.tolist()\n",
    "categories"
   ]
  },
  {
   "cell_type": "code",
   "execution_count": 16,
   "metadata": {},
   "outputs": [
    {
     "data": {
      "text/html": [
       "<div>\n",
       "<style scoped>\n",
       "    .dataframe tbody tr th:only-of-type {\n",
       "        vertical-align: middle;\n",
       "    }\n",
       "\n",
       "    .dataframe tbody tr th {\n",
       "        vertical-align: top;\n",
       "    }\n",
       "\n",
       "    .dataframe thead th {\n",
       "        text-align: right;\n",
       "    }\n",
       "</style>\n",
       "<table border=\"1\" class=\"dataframe\">\n",
       "  <thead>\n",
       "    <tr style=\"text-align: right;\">\n",
       "      <th></th>\n",
       "      <th>user_id</th>\n",
       "      <th>label</th>\n",
       "      <th>alpha</th>\n",
       "      <th>text</th>\n",
       "    </tr>\n",
       "  </thead>\n",
       "  <tbody>\n",
       "    <tr>\n",
       "      <th>0</th>\n",
       "      <td>192723-544650</td>\n",
       "      <td>1</td>\n",
       "      <td>a</td>\n",
       "      <td>I would suggest having a developmental growth ...</td>\n",
       "    </tr>\n",
       "    <tr>\n",
       "      <th>1</th>\n",
       "      <td>188281-540434</td>\n",
       "      <td>0</td>\n",
       "      <td>a</td>\n",
       "      <td>Base decisions regarding fish and wildlife on ...</td>\n",
       "    </tr>\n",
       "    <tr>\n",
       "      <th>2</th>\n",
       "      <td>174789-230694</td>\n",
       "      <td>0</td>\n",
       "      <td>a</td>\n",
       "      <td>Get rid of Leading Workplace Strategies and gi...</td>\n",
       "    </tr>\n",
       "    <tr>\n",
       "      <th>3</th>\n",
       "      <td>185914-180608</td>\n",
       "      <td>0</td>\n",
       "      <td>a</td>\n",
       "      <td>We are the lowest paid in Canada with a worklo...</td>\n",
       "    </tr>\n",
       "    <tr>\n",
       "      <th>4</th>\n",
       "      <td>189099-732978</td>\n",
       "      <td>0</td>\n",
       "      <td>a</td>\n",
       "      <td>Official acknowledgement of the limited divers...</td>\n",
       "    </tr>\n",
       "  </tbody>\n",
       "</table>\n",
       "</div>"
      ],
      "text/plain": [
       "         user_id  label alpha  \\\n",
       "0  192723-544650      1     a   \n",
       "1  188281-540434      0     a   \n",
       "2  174789-230694      0     a   \n",
       "3  185914-180608      0     a   \n",
       "4  189099-732978      0     a   \n",
       "\n",
       "                                                text  \n",
       "0  I would suggest having a developmental growth ...  \n",
       "1  Base decisions regarding fish and wildlife on ...  \n",
       "2  Get rid of Leading Workplace Strategies and gi...  \n",
       "3  We are the lowest paid in Canada with a worklo...  \n",
       "4  Official acknowledgement of the limited divers...  "
      ]
     },
     "execution_count": 16,
     "metadata": {},
     "output_type": "execute_result"
    }
   ],
   "source": [
    "# Creating train and dev dataframes according to BERT\n",
    "df_bert = pd.DataFrame({'user_id':df_2018['_telkey'],\n",
    "            'label':df_2018['CPD'],\n",
    "            'alpha':['a']*df_2018.shape[0],\n",
    "            'text':df_2018['2018 Comment'].replace(r'\\n',' ',regex=True)})\n",
    "#df_bert = df_bert.iloc[0:200,:]\n",
    "df_bert.head()"
   ]
  },
  {
   "cell_type": "code",
   "execution_count": 17,
   "metadata": {},
   "outputs": [],
   "source": [
    "df_bert_train, df_bert_dev = train_test_split(df_bert, test_size=0.15,random_state=2019)"
   ]
  },
  {
   "cell_type": "code",
   "execution_count": 18,
   "metadata": {},
   "outputs": [
    {
     "data": {
      "text/html": [
       "<div>\n",
       "<style scoped>\n",
       "    .dataframe tbody tr th:only-of-type {\n",
       "        vertical-align: middle;\n",
       "    }\n",
       "\n",
       "    .dataframe tbody tr th {\n",
       "        vertical-align: top;\n",
       "    }\n",
       "\n",
       "    .dataframe thead th {\n",
       "        text-align: right;\n",
       "    }\n",
       "</style>\n",
       "<table border=\"1\" class=\"dataframe\">\n",
       "  <thead>\n",
       "    <tr style=\"text-align: right;\">\n",
       "      <th></th>\n",
       "      <th>User_ID</th>\n",
       "      <th>text</th>\n",
       "    </tr>\n",
       "  </thead>\n",
       "  <tbody>\n",
       "    <tr>\n",
       "      <th>0</th>\n",
       "      <td>194791-949508</td>\n",
       "      <td>The compensation.</td>\n",
       "    </tr>\n",
       "    <tr>\n",
       "      <th>1</th>\n",
       "      <td>174648-027372</td>\n",
       "      <td>compare type of work; expertise required; and ...</td>\n",
       "    </tr>\n",
       "    <tr>\n",
       "      <th>2</th>\n",
       "      <td>176038-900440</td>\n",
       "      <td>Greater support for mobile work options and in...</td>\n",
       "    </tr>\n",
       "    <tr>\n",
       "      <th>3</th>\n",
       "      <td>173698-669014</td>\n",
       "      <td>Consistent direction by all Supervisors.</td>\n",
       "    </tr>\n",
       "    <tr>\n",
       "      <th>4</th>\n",
       "      <td>175136-609856</td>\n",
       "      <td>Sound - working in an open area, it can be; ve...</td>\n",
       "    </tr>\n",
       "  </tbody>\n",
       "</table>\n",
       "</div>"
      ],
      "text/plain": [
       "         User_ID                                               text\n",
       "0  194791-949508                                  The compensation.\n",
       "1  174648-027372  compare type of work; expertise required; and ...\n",
       "2  176038-900440  Greater support for mobile work options and in...\n",
       "3  173698-669014          Consistent direction by all Supervisors. \n",
       "4  175136-609856  Sound - working in an open area, it can be; ve..."
      ]
     },
     "execution_count": 18,
     "metadata": {},
     "output_type": "execute_result"
    }
   ],
   "source": [
    "# Creating test dataframe according to BERT\n",
    "df_test = pd.read_csv(\"../../DSCI_591_capstone-BCStats/data/interim/test_2018-qualitative-data.csv\")\n",
    "#df_test = df_test.iloc[0:60,:]\n",
    "df_bert_test = pd.DataFrame({'User_ID':df_test['_telkey'],\n",
    "                 'text':df_test['2018 Comment'].replace(r'\\n',' ',regex=True)})\n",
    "df_bert_test.head() "
   ]
  },
  {
   "cell_type": "code",
   "execution_count": 19,
   "metadata": {},
   "outputs": [],
   "source": [
    "# Saving dataframes to .tsv format as required by BERT\n",
    "df_bert_train.to_csv('./data/train.tsv', sep='\\t', index=False, header=False)\n",
    "df_bert_dev.to_csv('./data/dev.tsv', sep='\\t', index=False, header=False)\n",
    "df_bert_test.to_csv('./data/test.tsv', sep='\\t', index=False, header=True)"
   ]
  },
  {
   "cell_type": "markdown",
   "metadata": {},
   "source": [
    "### Run the below command on terminal:\n",
    "```\n",
    "python run_classifier.py  \\\n",
    "--task_name=cola  \\\n",
    "--do_train=true  \\\n",
    "--do_eval=true  \\\n",
    "--do_predict=true \\\n",
    "--data_dir=./data/ \\\n",
    "--vocab_file=./cased_L-12_H-768_A-12/vocab.txt \\\n",
    "--bert_config_file=./cased_L-12_H-768_A-12/bert_config.json \\\n",
    "--init_checkpoint=./cased_L-12_H-768_A-12/bert_model.ckpt \\\n",
    "--max_seq_length=512 \\\n",
    "--train_batch_size=8 \\\n",
    "--learning_rate=2e-5 \\\n",
    "--num_train_epochs=3.0  \\\n",
    "--output_dir=./bert_output/ \\\n",
    "--do_lower_case=False \n",
    "```"
   ]
  },
  {
   "cell_type": "code",
   "execution_count": 1,
   "metadata": {},
   "outputs": [
    {
     "ename": "NameError",
     "evalue": "name 'pd' is not defined",
     "output_type": "error",
     "traceback": [
      "\u001b[0;31m---------------------------------------------------------------------------\u001b[0m",
      "\u001b[0;31mNameError\u001b[0m                                 Traceback (most recent call last)",
      "\u001b[0;32m<ipython-input-1-4633aa664529>\u001b[0m in \u001b[0;36m<module>\u001b[0;34m()\u001b[0m\n\u001b[1;32m      1\u001b[0m \u001b[0;31m# converts the results from BERT model to .csv format\u001b[0m\u001b[0;34m\u001b[0m\u001b[0;34m\u001b[0m\u001b[0;34m\u001b[0m\u001b[0m\n\u001b[0;32m----> 2\u001b[0;31m \u001b[0mdf_results\u001b[0m \u001b[0;34m=\u001b[0m \u001b[0mpd\u001b[0m\u001b[0;34m.\u001b[0m\u001b[0mread_csv\u001b[0m\u001b[0;34m(\u001b[0m\u001b[0;34m\"bert_output/test_results.tsv\"\u001b[0m\u001b[0;34m,\u001b[0m\u001b[0msep\u001b[0m\u001b[0;34m=\u001b[0m\u001b[0;34m\"\\t\"\u001b[0m\u001b[0;34m,\u001b[0m\u001b[0mheader\u001b[0m\u001b[0;34m=\u001b[0m\u001b[0;32mNone\u001b[0m\u001b[0;34m)\u001b[0m\u001b[0;34m\u001b[0m\u001b[0;34m\u001b[0m\u001b[0m\n\u001b[0m\u001b[1;32m      3\u001b[0m df_results_csv = pd.DataFrame({'User_ID':df_test['_telkey'],\n\u001b[1;32m      4\u001b[0m                                \u001b[0;34m'bert_CPD'\u001b[0m\u001b[0;34m:\u001b[0m\u001b[0mdf_results\u001b[0m\u001b[0;34m.\u001b[0m\u001b[0midxmax\u001b[0m\u001b[0;34m(\u001b[0m\u001b[0maxis\u001b[0m\u001b[0;34m=\u001b[0m\u001b[0;36m1\u001b[0m\u001b[0;34m)\u001b[0m\u001b[0;34m,\u001b[0m\u001b[0;34m\u001b[0m\u001b[0;34m\u001b[0m\u001b[0m\n\u001b[1;32m      5\u001b[0m                                'true_CPD':df_test['CPD']})\n",
      "\u001b[0;31mNameError\u001b[0m: name 'pd' is not defined"
     ]
    }
   ],
   "source": [
    "# converts the results from BERT model to .csv format\n",
    "df_results = pd.read_csv(\"bert_output/test_results.tsv\",sep=\"\\t\",header=None)\n",
    "df_results_csv = pd.DataFrame({'User_ID':df_test['_telkey'],\n",
    "                               'bert_CPD':df_results.idxmax(axis=1),\n",
    "                               'true_CPD':df_test['CPD']})\n",
    " \n",
    "# writing into .csv\n",
    "df_results_csv.to_csv('data/bert_result.csv',sep=\",\",index=None)\n"
   ]
  },
  {
   "cell_type": "code",
   "execution_count": 41,
   "metadata": {},
   "outputs": [
    {
     "data": {
      "text/html": [
       "<div>\n",
       "<style scoped>\n",
       "    .dataframe tbody tr th:only-of-type {\n",
       "        vertical-align: middle;\n",
       "    }\n",
       "\n",
       "    .dataframe tbody tr th {\n",
       "        vertical-align: top;\n",
       "    }\n",
       "\n",
       "    .dataframe thead th {\n",
       "        text-align: right;\n",
       "    }\n",
       "</style>\n",
       "<table border=\"1\" class=\"dataframe\">\n",
       "  <thead>\n",
       "    <tr style=\"text-align: right;\">\n",
       "      <th></th>\n",
       "      <th>0</th>\n",
       "      <th>1</th>\n",
       "    </tr>\n",
       "  </thead>\n",
       "  <tbody>\n",
       "    <tr>\n",
       "      <th>0</th>\n",
       "      <td>0.999709</td>\n",
       "      <td>0.000291</td>\n",
       "    </tr>\n",
       "    <tr>\n",
       "      <th>1</th>\n",
       "      <td>0.999547</td>\n",
       "      <td>0.000453</td>\n",
       "    </tr>\n",
       "    <tr>\n",
       "      <th>2</th>\n",
       "      <td>0.000784</td>\n",
       "      <td>0.999216</td>\n",
       "    </tr>\n",
       "    <tr>\n",
       "      <th>3</th>\n",
       "      <td>0.999611</td>\n",
       "      <td>0.000389</td>\n",
       "    </tr>\n",
       "    <tr>\n",
       "      <th>4</th>\n",
       "      <td>0.999677</td>\n",
       "      <td>0.000323</td>\n",
       "    </tr>\n",
       "  </tbody>\n",
       "</table>\n",
       "</div>"
      ],
      "text/plain": [
       "          0         1\n",
       "0  0.999709  0.000291\n",
       "1  0.999547  0.000453\n",
       "2  0.000784  0.999216\n",
       "3  0.999611  0.000389\n",
       "4  0.999677  0.000323"
      ]
     },
     "execution_count": 41,
     "metadata": {},
     "output_type": "execute_result"
    }
   ],
   "source": [
    "df_results.head()"
   ]
  },
  {
   "cell_type": "code",
   "execution_count": 12,
   "metadata": {},
   "outputs": [
    {
     "data": {
      "text/html": [
       "<div>\n",
       "<style scoped>\n",
       "    .dataframe tbody tr th:only-of-type {\n",
       "        vertical-align: middle;\n",
       "    }\n",
       "\n",
       "    .dataframe tbody tr th {\n",
       "        vertical-align: top;\n",
       "    }\n",
       "\n",
       "    .dataframe thead th {\n",
       "        text-align: right;\n",
       "    }\n",
       "</style>\n",
       "<table border=\"1\" class=\"dataframe\">\n",
       "  <thead>\n",
       "    <tr style=\"text-align: right;\">\n",
       "      <th></th>\n",
       "      <th>User_ID</th>\n",
       "      <th>bert_CPD</th>\n",
       "      <th>true_CPD</th>\n",
       "      <th>diff</th>\n",
       "      <th>predict correctly?</th>\n",
       "    </tr>\n",
       "  </thead>\n",
       "  <tbody>\n",
       "    <tr>\n",
       "      <th>0</th>\n",
       "      <td>194791-949508</td>\n",
       "      <td>0</td>\n",
       "      <td>0</td>\n",
       "      <td>0</td>\n",
       "      <td>True</td>\n",
       "    </tr>\n",
       "    <tr>\n",
       "      <th>1</th>\n",
       "      <td>174648-027372</td>\n",
       "      <td>0</td>\n",
       "      <td>0</td>\n",
       "      <td>0</td>\n",
       "      <td>True</td>\n",
       "    </tr>\n",
       "    <tr>\n",
       "      <th>2</th>\n",
       "      <td>176038-900440</td>\n",
       "      <td>1</td>\n",
       "      <td>1</td>\n",
       "      <td>0</td>\n",
       "      <td>True</td>\n",
       "    </tr>\n",
       "    <tr>\n",
       "      <th>3</th>\n",
       "      <td>173698-669014</td>\n",
       "      <td>0</td>\n",
       "      <td>0</td>\n",
       "      <td>0</td>\n",
       "      <td>True</td>\n",
       "    </tr>\n",
       "    <tr>\n",
       "      <th>4</th>\n",
       "      <td>175136-609856</td>\n",
       "      <td>0</td>\n",
       "      <td>0</td>\n",
       "      <td>0</td>\n",
       "      <td>True</td>\n",
       "    </tr>\n",
       "  </tbody>\n",
       "</table>\n",
       "</div>"
      ],
      "text/plain": [
       "         User_ID  bert_CPD  true_CPD  diff predict correctly?\n",
       "0  194791-949508         0         0     0               True\n",
       "1  174648-027372         0         0     0               True\n",
       "2  176038-900440         1         1     0               True\n",
       "3  173698-669014         0         0     0               True\n",
       "4  175136-609856         0         0     0               True"
      ]
     },
     "execution_count": 12,
     "metadata": {},
     "output_type": "execute_result"
    }
   ],
   "source": [
    "df_results_csv[\"diff\"] = df_results_csv['bert_CPD'] - df_results_csv['true_CPD']\n",
    "df_results_csv [\"predict correctly?\"] = df_results_csv['diff'].apply(lambda x: 'True' if x ==0 else 'False')\n",
    "df_results_csv.head()"
   ]
  },
  {
   "cell_type": "code",
   "execution_count": 13,
   "metadata": {},
   "outputs": [
    {
     "name": "stdout",
     "output_type": "stream",
     "text": [
      "accuracy 0.9457627118644067\n"
     ]
    }
   ],
   "source": [
    "scores = df_results_csv['predict correctly?'].value_counts()\n",
    "correct = scores[0]\n",
    "wrong = scores[1]\n",
    "print(\"accuracy\", correct/(correct+wrong))"
   ]
  },
  {
   "cell_type": "code",
   "execution_count": 23,
   "metadata": {},
   "outputs": [],
   "source": [
    "Ypred = np.array(df_results_csv.bert_CPD)\n",
    "Ytrue = np.array(df_results_csv.true_CPD)"
   ]
  },
  {
   "cell_type": "code",
   "execution_count": 35,
   "metadata": {},
   "outputs": [
    {
     "name": "stdout",
     "output_type": "stream",
     "text": [
      "Overall Accuracy: 0.9458 \n",
      "Hamming Loss: 0.0542\n"
     ]
    }
   ],
   "source": [
    "overall_accuracy = metrics.accuracy_score(Ytrue, Ypred)\n",
    "hamming_loss = metrics.hamming_loss(Ytrue, Ypred)\n",
    "print(\"Overall Accuracy:\", round(overall_accuracy, 4),\n",
    "          '\\nHamming Loss:', round(hamming_loss, 4))"
   ]
  },
  {
   "cell_type": "code",
   "execution_count": 38,
   "metadata": {},
   "outputs": [],
   "source": [
    "precision.append(metrics.precision_score(Ytrue, Ypred))\n",
    "recall.append(metrics.recall_score(Ytrue, Ypred))"
   ]
  },
  {
   "cell_type": "code",
   "execution_count": 39,
   "metadata": {},
   "outputs": [
    {
     "data": {
      "text/plain": [
       "[0.7857142857142857]"
      ]
     },
     "execution_count": 39,
     "metadata": {},
     "output_type": "execute_result"
    }
   ],
   "source": [
    "precision"
   ]
  },
  {
   "cell_type": "code",
   "execution_count": 40,
   "metadata": {},
   "outputs": [
    {
     "data": {
      "text/plain": [
       "[0.7771739130434783]"
      ]
     },
     "execution_count": 40,
     "metadata": {},
     "output_type": "execute_result"
    }
   ],
   "source": [
    "recall"
   ]
  }
 ],
 "metadata": {
  "kernelspec": {
   "display_name": "Python 3",
   "language": "python",
   "name": "python3"
  },
  "language_info": {
   "codemirror_mode": {
    "name": "ipython",
    "version": 3
   },
   "file_extension": ".py",
   "mimetype": "text/x-python",
   "name": "python",
   "nbconvert_exporter": "python",
   "pygments_lexer": "ipython3",
   "version": "3.6.8"
  }
 },
 "nbformat": 4,
 "nbformat_minor": 2
}
