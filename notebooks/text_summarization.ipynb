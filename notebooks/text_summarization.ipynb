{
 "cells": [
  {
   "cell_type": "markdown",
   "metadata": {},
   "source": [
    "# Text Summarization \n",
    "\n",
    "This notebook is designed to let you easily generate and play with summaries of the open-ended survey comments. The comments can be grouped into themes, sub-themes and agreement levels. This notebook can help you summarize hundreds of comments in mere minutes and reduce the time it takes to gain meaningful insights for the WES. \n",
    "\n",
    "### Instructions for use\n",
    "\n",
    "This notebook can be used to create summaries for text. You can select which subtheme and agreement level you want to look at. There are 2 different algorithms provided for generating a summary. \n",
    "\n",
    "\n",
    "**Option 1: PageRank - cosine similarity**\n",
    "This is a implementation adapted from [Prateek Joshi's blog](https://www.analyticsvidhya.com/blog/2018/11/introduction-text-summarization-textrank-python/) and the code is present in the text summary script. This method is slower since it uses pre-trained word embeddigns which are large files that take a while to load and the code has not been optimized for speed. To reduce the run time when generating multiple summaries, you can save the loaded pre-trained embeddings on the first run by changing the parameters of the function. This will greatly reduce the runtime the second time the function is run. \n",
    "\n",
    "Any embedding should work in the function, the recommended embedding is the fasttext crawl because it has the greatest text coverage with our corpus. \n",
    "\n",
    "**Option 2: Variation TextRank - BM25 similarity** \n",
    "This method comes from the [Gensim package](https://radimrehurek.com/gensim/summarization/summariser.html) and is an variation on the TextRank algorithm and is much faster than our implementation. \n",
    "\n",
    "For detailed examples of use each option read the documentation for generate_text_summary.\n",
    "\n",
    "#### Usage\n",
    "\n",
    "The `generate_text_summary` has been imported as a module and you can generate summaries and save them as csv files. \n",
    "\n",
    "\n",
    "### Info about working directories\n",
    "\n",
    "This notebook had been set up to run from the root directory. To switch the working directory, follow the instructions in the cell below.\n"
   ]
  },
  {
   "cell_type": "code",
   "execution_count": null,
   "metadata": {},
   "outputs": [],
   "source": [
    "# This code chunck will change the working directory to be project root (only run once)\n",
    "\n",
    "import os\n",
    "# check what folder is the current working directory\n",
    "print(\"Intial Working Directory \\n\", os.getcwd())\n",
    "# change the working directory to one level up\n",
    "os.chdir('../')\n",
    "# confirm working directory is now project root\n",
    "print(\"Current Working Directory \\n\", os.getcwd())"
   ]
  },
  {
   "cell_type": "code",
   "execution_count": null,
   "metadata": {},
   "outputs": [],
   "source": [
    "import time\n",
    "import src\n",
    "from src.analysis.text_summary import generate_text_summary"
   ]
  },
  {
   "cell_type": "markdown",
   "metadata": {},
   "source": [
    "## Summaries"
   ]
  },
  {
   "cell_type": "markdown",
   "metadata": {},
   "source": [
    "### Option 1: Pagerank \n",
    "\n",
    "Credit to: Prateek Joshi\n",
    "\n",
    "https://www.analyticsvidhya.com/blog/2018/11/introduction-text-summarization-textrank-python/"
   ]
  },
  {
   "cell_type": "code",
   "execution_count": null,
   "metadata": {},
   "outputs": [],
   "source": [
    "start = time.time()\n",
    "summary1, loaded_embedding = generate_text_summary(\".\\data\\interim\\linking_joined_qual_quant.csv\",\n",
    "                                        5,\n",
    "                                        \"subtheme\",\n",
    "                                        13,\n",
    "                                        \"weak\",\n",
    "                                        \"pagerank\",\n",
    "                                        \"./references/pretrained_embeddings.nosync/fasttext/crawl-300d-2M.vec\",\n",
    "                                        embedding_return=True)\n",
    "end = time.time()\n",
    "print((end - start) / 60, \"mins\")"
   ]
  },
  {
   "cell_type": "code",
   "execution_count": null,
   "metadata": {},
   "outputs": [],
   "source": [
    "start = time.time()\n",
    "generate_text_summary(\".\\data\\interim\\linking_joined_qual_quant.csv\",  \n",
    "                                        5,\n",
    "                                        \"subtheme\",\n",
    "                                        13,\n",
    "                                        \"weak\",\n",
    "                                        \"pagerank\",\n",
    "                                        embedding=loaded_embedding)\n",
    "end = time.time()\n",
    "print((end - start) / 60, \"mins\")"
   ]
  },
  {
   "cell_type": "markdown",
   "metadata": {},
   "source": [
    "### Option 2: Gensim Package: TextRank"
   ]
  },
  {
   "cell_type": "code",
   "execution_count": null,
   "metadata": {},
   "outputs": [],
   "source": [
    "start = time.time()\n",
    "generate_text_summary(\".\\data\\interim\\linking_joined_qual_quant.csv\",  \n",
    "                                        200,\n",
    "                                        \"subtheme\",\n",
    "                                        13,\n",
    "                                        \"weak\",\n",
    "                                        \"textrank\")\n",
    "\n",
    "end = time.time()\n",
    "print((end - start) / 60, \"mins\")"
   ]
  },
  {
   "cell_type": "code",
   "execution_count": null,
   "metadata": {},
   "outputs": [],
   "source": []
  },
  {
   "cell_type": "code",
   "execution_count": null,
   "metadata": {},
   "outputs": [],
   "source": []
  }
 ],
 "metadata": {
  "kernelspec": {
   "display_name": "Python 3",
   "language": "python",
   "name": "python3"
  },
  "language_info": {
   "codemirror_mode": {
    "name": "ipython",
    "version": 3
   },
   "file_extension": ".py",
   "mimetype": "text/x-python",
   "name": "python",
   "nbconvert_exporter": "python",
   "pygments_lexer": "ipython3",
   "version": "3.7.1"
  }
 },
 "nbformat": 4,
 "nbformat_minor": 2
}
