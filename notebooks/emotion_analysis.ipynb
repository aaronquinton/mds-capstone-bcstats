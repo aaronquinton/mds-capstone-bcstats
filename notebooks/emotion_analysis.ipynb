{
 "cells": [
  {
   "cell_type": "markdown",
   "metadata": {},
   "source": [
    "# Emotion Analysis\n",
    "\n",
    "This notebook analyzes the level of anger, fear and sadness present in the open-ended survey comments. The comments can be viewed individually or grouped into themes, sub-themes and agreement levels. \n",
    "\n",
    "### Method\n",
    "\n",
    "The idea behind this method is that words are associated to an emotion. To determine the emotion of a comment the words within the comment were compared to the [NRC Affect Intensity Lexicon v0.5](http://saifmohammad.com/WebDocs/NRC-AffectIntensity-Lexicon.txt) (Saif M. Mohammad). The lexicon contains 6,000 words associated with anger, fear, sadness and joy. Each word has a score from 0 to 1 where the higher the scores indicates the word is more strongly associated with that emotion. To get each emotion the words were summed up to give an emotion score for the comment, to determine the main emotion present the emotion with the highest score was chosen. \n",
    " \n",
    "The lexicon does contain joy as an emotion but joy was left out of this analysis since the comments\n",
    "are assumed to be negative and we were trying to understand what are the underlying causes of the employee’s negative sentiment. Joy was included at first but removed as it was found to be the prevailing emotion. Through investigating the results, we found that joy was not the correct label for the comment because the words associated are common words but were being used with a negative connotation like \"not good\". \n",
    "\n",
    "The rules of the matcher only count if the word is present and does not understand the context of the word. When examples of anger, fear and sadness were looked at the words were being used in the appropriate manner for this analysis. \n",
    "\n",
    "There is a function written to normalize the scores the scores to make it easier to compare comments emotion scores. This can be chosen as a parameter in some of the exploring functions. It works by dividing the comments by their length but does not function optimally and is not recommended to use. This is an area that improvement could be done on. \n",
    "\n",
    "### Instructions for use\n",
    "\n",
    "This notebook can be used to look at different emotions, comments, subthemes and themes. Change the parameters of the functions to look at different examples. The functions can work with the desensitized qualitative data as well as the linking_joined_qual_quant if you want to examine the different agreement levels. The functions are well documented, the notebook below shows examples of their use. \n",
    "\n",
    "The main flow for the notebook:\n",
    "- load dataset\n",
    "    - densensitized needs to be processed first with `pre_process_comments`\n",
    "    - linking agreement is the correct format to start\n",
    "- parse through comments to get the emotions scores with `obtain_emotion_scores`\n",
    "- explore the data with the visualization and exploring functions\n",
    "    - plot_emotions\n",
    "    - display_top_emotions\n",
    "    - examine_emotion_scoring\n",
    "    - summary\n",
    "\n",
    "\n",
    "### Info about working directories\n",
    "\n",
    "This notebook had been set up to run from the root directory. To switch the working directory, follow the instructions in the cell below.\n",
    "\n"
   ]
  },
  {
   "cell_type": "code",
   "execution_count": 1,
   "metadata": {},
   "outputs": [
    {
     "name": "stdout",
     "output_type": "stream",
     "text": [
      "Intial Working Directory \n",
      " C:\\Users\\payla\\Documents\\MDS\\Capstone\\DSCI_591_capstone-BCStats\\notebooks\n",
      "Current Working Directory \n",
      " C:\\Users\\payla\\Documents\\MDS\\Capstone\\DSCI_591_capstone-BCStats\n"
     ]
    }
   ],
   "source": [
    "# This code chunck will change the working directory to be project root (only run once)\n",
    "\n",
    "import os\n",
    "# check what folder is the current working directory\n",
    "print(\"Intial Working Directory \\n\", os.getcwd())\n",
    "# change the working directory to one level up\n",
    "os.chdir('../')\n",
    "# confirm working directory is now project root\n",
    "print(\"Current Working Directory \\n\", os.getcwd())"
   ]
  },
  {
   "cell_type": "code",
   "execution_count": 2,
   "metadata": {},
   "outputs": [],
   "source": [
    "# Required packages\n",
    "import pandas as pd\n",
    "import time\n",
    "import src\n",
    "from src.analysis.emotion_analysis import *"
   ]
  },
  {
   "cell_type": "markdown",
   "metadata": {},
   "source": [
    "## Load Data and Lexicon"
   ]
  },
  {
   "cell_type": "code",
   "execution_count": 3,
   "metadata": {
    "scrolled": false
   },
   "outputs": [],
   "source": [
    "# read full data\n",
    "data_full = pd.read_csv(\".\\data\\interim\\desensitized_qualitative-data2018.csv\",\n",
    "                            usecols=[0, 1, 2, 3, 4, 5, 6], \n",
    "                            names=[\"USERID\", \"text\", \"code1\", \"code2\", \"code3\", \"code4\", \"code5\"], skiprows=1)\n",
    "\n",
    "# load lexicon\n",
    "lexicon = pd.read_csv(\"http://saifmohammad.com/WebDocs/NRC-AffectIntensity-Lexicon.txt\", \n",
    "                      sep=\"\\t\", \n",
    "                      skiprows=35) \n",
    "# read in data legend\n",
    "legend = pd.read_csv(\"./references/data-dictionaries/theme_subtheme_names.csv\")"
   ]
  },
  {
   "cell_type": "markdown",
   "metadata": {},
   "source": [
    "## Process Full Comment data and Add Themes Names"
   ]
  },
  {
   "cell_type": "code",
   "execution_count": 4,
   "metadata": {},
   "outputs": [
    {
     "name": "stdout",
     "output_type": "stream",
     "text": [
      "\n"
     ]
    }
   ],
   "source": [
    "data_full = src.analysis.emotion_analysis.pre_process_comments(data_full, legend)"
   ]
  },
  {
   "cell_type": "markdown",
   "metadata": {},
   "source": [
    "## Obtain Emotion Scores for Each Comment"
   ]
  },
  {
   "cell_type": "code",
   "execution_count": 5,
   "metadata": {
    "scrolled": true
   },
   "outputs": [
    {
     "name": "stdout",
     "output_type": "stream",
     "text": [
      "12.010061911741893 mins\n"
     ]
    }
   ],
   "source": [
    "start = time.time()\n",
    "full_scores = src.analysis.emotion_analysis.obtain_emotion_scores(data_full, \n",
    "                                                                  lexicon, \n",
    "                                                                  anger=True, \n",
    "                                                                  fear=True, \n",
    "                                                                  sadness=True, \n",
    "                                                                  joy=False)\n",
    "end = time.time()\n",
    "print((end - start) / 60, \"mins\")"
   ]
  },
  {
   "cell_type": "markdown",
   "metadata": {},
   "source": [
    "### Overall Emotions"
   ]
  },
  {
   "cell_type": "code",
   "execution_count": 6,
   "metadata": {},
   "outputs": [
    {
     "data": {
      "image/png": "[encoded data removed]",
      "text/plain": [
       "<Figure size 432x288 with 1 Axes>"
      ]
     },
     "metadata": {
      "needs_background": "light"
     },
     "output_type": "display_data"
    }
   ],
   "source": [
    "#df = full_scores\n",
    "src.analysis.emotion_analysis.plot_emotions(full_scores)"
   ]
  },
  {
   "cell_type": "code",
   "execution_count": 7,
   "metadata": {
    "scrolled": false
   },
   "outputs": [
    {
     "data": {
      "image/png": "[encoded data removed]",
      "text/plain": [
       "<Figure size 432x288 with 1 Axes>"
      ]
     },
     "metadata": {
      "needs_background": "light"
     },
     "output_type": "display_data"
    }
   ],
   "source": [
    "src.analysis.emotion_analysis.plot_emotions(full_scores, depth=\"theme\", name=\"Supervisors\")"
   ]
  },
  {
   "cell_type": "code",
   "execution_count": 8,
   "metadata": {},
   "outputs": [
    {
     "data": {
      "text/html": [
       "<div>\n",
       "<style scoped>\n",
       "    .dataframe tbody tr th:only-of-type {\n",
       "        vertical-align: middle;\n",
       "    }\n",
       "\n",
       "    .dataframe tbody tr th {\n",
       "        vertical-align: top;\n",
       "    }\n",
       "\n",
       "    .dataframe thead th {\n",
       "        text-align: right;\n",
       "    }\n",
       "</style>\n",
       "<table border=\"1\" class=\"dataframe\">\n",
       "  <thead>\n",
       "    <tr style=\"text-align: right;\">\n",
       "      <th></th>\n",
       "      <th>code</th>\n",
       "      <th>text</th>\n",
       "      <th>theme</th>\n",
       "      <th>subtheme_description</th>\n",
       "      <th>anger</th>\n",
       "      <th>fear</th>\n",
       "      <th>sad</th>\n",
       "    </tr>\n",
       "  </thead>\n",
       "  <tbody>\n",
       "    <tr>\n",
       "      <th>10000</th>\n",
       "      <td>83</td>\n",
       "      <td>to not be afraid to truly blend with the staff...</td>\n",
       "      <td>Supervisors</td>\n",
       "      <td>Strengthen quality of supervisory leadership</td>\n",
       "      <td>4.366</td>\n",
       "      <td>6.610</td>\n",
       "      <td>2.548</td>\n",
       "    </tr>\n",
       "    <tr>\n",
       "      <th>9778</th>\n",
       "      <td>101</td>\n",
       "      <td>staffing levels. there is far too much violenc...</td>\n",
       "      <td>Tools, Equipment &amp; Physical Environment</td>\n",
       "      <td>Ensure safety and security of employees</td>\n",
       "      <td>4.054</td>\n",
       "      <td>6.573</td>\n",
       "      <td>5.534</td>\n",
       "    </tr>\n",
       "    <tr>\n",
       "      <th>12468</th>\n",
       "      <td>113</td>\n",
       "      <td>the trauma informed model does not work as a m...</td>\n",
       "      <td>Vision, Mission &amp; Goals</td>\n",
       "      <td>Improve program and/or policy implementation</td>\n",
       "      <td>1.836</td>\n",
       "      <td>6.327</td>\n",
       "      <td>1.031</td>\n",
       "    </tr>\n",
       "    <tr>\n",
       "      <th>14115</th>\n",
       "      <td>113</td>\n",
       "      <td>we have gotten to a point where the rights of ...</td>\n",
       "      <td>Vision, Mission &amp; Goals</td>\n",
       "      <td>Improve program and/or policy implementation</td>\n",
       "      <td>1.560</td>\n",
       "      <td>5.917</td>\n",
       "      <td>2.365</td>\n",
       "    </tr>\n",
       "    <tr>\n",
       "      <th>4610</th>\n",
       "      <td>94</td>\n",
       "      <td>as being part of a ministry that has a high le...</td>\n",
       "      <td>Stress &amp; Workload</td>\n",
       "      <td>Support a healthy workplace</td>\n",
       "      <td>1.621</td>\n",
       "      <td>5.743</td>\n",
       "      <td>4.458</td>\n",
       "    </tr>\n",
       "  </tbody>\n",
       "</table>\n",
       "</div>"
      ],
      "text/plain": [
       "       code                                               text  \\\n",
       "10000    83  to not be afraid to truly blend with the staff...   \n",
       "9778    101  staffing levels. there is far too much violenc...   \n",
       "12468   113  the trauma informed model does not work as a m...   \n",
       "14115   113  we have gotten to a point where the rights of ...   \n",
       "4610     94  as being part of a ministry that has a high le...   \n",
       "\n",
       "                                         theme  \\\n",
       "10000                              Supervisors   \n",
       "9778   Tools, Equipment & Physical Environment   \n",
       "12468                  Vision, Mission & Goals   \n",
       "14115                  Vision, Mission & Goals   \n",
       "4610                         Stress & Workload   \n",
       "\n",
       "                               subtheme_description  anger   fear    sad  \n",
       "10000  Strengthen quality of supervisory leadership  4.366  6.610  2.548  \n",
       "9778        Ensure safety and security of employees  4.054  6.573  5.534  \n",
       "12468  Improve program and/or policy implementation  1.836  6.327  1.031  \n",
       "14115  Improve program and/or policy implementation  1.560  5.917  2.365  \n",
       "4610                    Support a healthy workplace  1.621  5.743  4.458  "
      ]
     },
     "execution_count": 8,
     "metadata": {},
     "output_type": "execute_result"
    }
   ],
   "source": [
    "top_fear = src.analysis.emotion_analysis.display_top_emotions(full_scores, \"fear\", 5)\n",
    "top_fear"
   ]
  },
  {
   "cell_type": "code",
   "execution_count": 9,
   "metadata": {
    "scrolled": false
   },
   "outputs": [
    {
     "data": {
      "text/html": [
       "<div>\n",
       "<style scoped>\n",
       "    .dataframe tbody tr th:only-of-type {\n",
       "        vertical-align: middle;\n",
       "    }\n",
       "\n",
       "    .dataframe tbody tr th {\n",
       "        vertical-align: top;\n",
       "    }\n",
       "\n",
       "    .dataframe thead th {\n",
       "        text-align: right;\n",
       "    }\n",
       "</style>\n",
       "<table border=\"1\" class=\"dataframe\">\n",
       "  <thead>\n",
       "    <tr style=\"text-align: right;\">\n",
       "      <th></th>\n",
       "      <th>code</th>\n",
       "      <th>theme</th>\n",
       "      <th>subtheme_description</th>\n",
       "      <th>anger</th>\n",
       "      <th>fear</th>\n",
       "      <th>sad</th>\n",
       "      <th>_anger</th>\n",
       "      <th>_fear</th>\n",
       "      <th>_sad</th>\n",
       "    </tr>\n",
       "  </thead>\n",
       "  <tbody>\n",
       "    <tr>\n",
       "      <th>23385</th>\n",
       "      <td>93</td>\n",
       "      <td>Stress &amp; Workload</td>\n",
       "      <td>Review workload expectations</td>\n",
       "      <td>0.823</td>\n",
       "      <td>1.047</td>\n",
       "      <td>0.758</td>\n",
       "      <td>0</td>\n",
       "      <td>1</td>\n",
       "      <td>0</td>\n",
       "    </tr>\n",
       "  </tbody>\n",
       "</table>\n",
       "</div>"
      ],
      "text/plain": [
       "       code              theme          subtheme_description  anger   fear  \\\n",
       "23385    93  Stress & Workload  Review workload expectations  0.823  1.047   \n",
       "\n",
       "         sad  _anger  _fear  _sad  \n",
       "23385  0.758       0      1     0  "
      ]
     },
     "metadata": {},
     "output_type": "display_data"
    },
    {
     "name": "stdout",
     "output_type": "stream",
     "text": [
      "\n",
      "\n",
      "Comment\n",
      "-------\n",
      "leadership under the exist psa model for senior executive focuses too much on the political rather than the public service, the downside for staff is they have no impact on decisions affecting them, and often receive very little credit because  they report to executive who are more focussed on their upward mobility.   workloads are far too uneven in many branches, staff receive little to no training or follow up on how to their jobs correctly.   the management compensation framework was a disaster, the dm in charge should have been removed, too many favours were given out.   why it is most senior jobs are filled without competition due to a 'business purposes' need.\n",
      "\n",
      "\n",
      "ANGER\n",
      "-----\n",
      "management 0.102\n",
      "disaster 0.721\n",
      "\n",
      "\n",
      "FEAR\n",
      "-----\n",
      "disaster 0.875\n",
      "competition 0.172\n",
      "\n",
      "\n",
      "SAD\n",
      "-----\n",
      "disaster 0.758\n",
      "\n",
      "\n"
     ]
    }
   ],
   "source": [
    "src.analysis.emotion_analysis.examine_emotion_scoring(full_scores, \"fear\", lexicon, )"
   ]
  },
  {
   "cell_type": "code",
   "execution_count": 10,
   "metadata": {},
   "outputs": [
    {
     "data": {
      "text/html": [
       "<div>\n",
       "<style scoped>\n",
       "    .dataframe tbody tr th:only-of-type {\n",
       "        vertical-align: middle;\n",
       "    }\n",
       "\n",
       "    .dataframe tbody tr th {\n",
       "        vertical-align: top;\n",
       "    }\n",
       "\n",
       "    .dataframe thead th {\n",
       "        text-align: right;\n",
       "    }\n",
       "</style>\n",
       "<table border=\"1\" class=\"dataframe\">\n",
       "  <thead>\n",
       "    <tr style=\"text-align: right;\">\n",
       "      <th></th>\n",
       "      <th>code</th>\n",
       "      <th>text</th>\n",
       "      <th>theme</th>\n",
       "      <th>subtheme_description</th>\n",
       "      <th>anger</th>\n",
       "      <th>fear</th>\n",
       "      <th>sad</th>\n",
       "    </tr>\n",
       "  </thead>\n",
       "  <tbody>\n",
       "    <tr>\n",
       "      <th>13444</th>\n",
       "      <td>13</td>\n",
       "      <td>trauma based training</td>\n",
       "      <td>Career &amp; Personal Development</td>\n",
       "      <td>Improve training and development opportunities</td>\n",
       "      <td>0.00</td>\n",
       "      <td>27.600</td>\n",
       "      <td>0.00</td>\n",
       "    </tr>\n",
       "    <tr>\n",
       "      <th>9125</th>\n",
       "      <td>101</td>\n",
       "      <td>safety/security as my workplace has become mor...</td>\n",
       "      <td>Tools, Equipment &amp; Physical Environment</td>\n",
       "      <td>Ensure safety and security of employees</td>\n",
       "      <td>8.44</td>\n",
       "      <td>15.620</td>\n",
       "      <td>0.00</td>\n",
       "    </tr>\n",
       "    <tr>\n",
       "      <th>10780</th>\n",
       "      <td>93</td>\n",
       "      <td>stress and workload</td>\n",
       "      <td>Stress &amp; Workload</td>\n",
       "      <td>Review workload expectations</td>\n",
       "      <td>0.00</td>\n",
       "      <td>14.633</td>\n",
       "      <td>0.00</td>\n",
       "    </tr>\n",
       "    <tr>\n",
       "      <th>5710</th>\n",
       "      <td>95</td>\n",
       "      <td>stress level management</td>\n",
       "      <td>Stress &amp; Workload</td>\n",
       "      <td>Stress &amp; workload - other</td>\n",
       "      <td>3.40</td>\n",
       "      <td>14.633</td>\n",
       "      <td>0.00</td>\n",
       "    </tr>\n",
       "    <tr>\n",
       "      <th>11532</th>\n",
       "      <td>93</td>\n",
       "      <td>deal with crushing work load.</td>\n",
       "      <td>Stress &amp; Workload</td>\n",
       "      <td>Review workload expectations</td>\n",
       "      <td>14.70</td>\n",
       "      <td>13.440</td>\n",
       "      <td>12.18</td>\n",
       "    </tr>\n",
       "  </tbody>\n",
       "</table>\n",
       "</div>"
      ],
      "text/plain": [
       "       code                                               text  \\\n",
       "13444    13                             trauma based training    \n",
       "9125    101  safety/security as my workplace has become mor...   \n",
       "10780    93                                stress and workload   \n",
       "5710     95                            stress level management   \n",
       "11532    93                      deal with crushing work load.   \n",
       "\n",
       "                                         theme  \\\n",
       "13444            Career & Personal Development   \n",
       "9125   Tools, Equipment & Physical Environment   \n",
       "10780                        Stress & Workload   \n",
       "5710                         Stress & Workload   \n",
       "11532                        Stress & Workload   \n",
       "\n",
       "                                 subtheme_description  anger    fear    sad  \n",
       "13444  Improve training and development opportunities   0.00  27.600   0.00  \n",
       "9125          Ensure safety and security of employees   8.44  15.620   0.00  \n",
       "10780                    Review workload expectations   0.00  14.633   0.00  \n",
       "5710                        Stress & workload - other   3.40  14.633   0.00  \n",
       "11532                    Review workload expectations  14.70  13.440  12.18  "
      ]
     },
     "execution_count": 10,
     "metadata": {},
     "output_type": "execute_result"
    }
   ],
   "source": [
    "src.analysis.emotion_analysis.display_top_emotions(full_scores, \"fear\", 5, normalize=True)"
   ]
  },
  {
   "cell_type": "code",
   "execution_count": 11,
   "metadata": {
    "scrolled": false
   },
   "outputs": [
    {
     "data": {
      "text/html": [
       "<div>\n",
       "<style scoped>\n",
       "    .dataframe tbody tr th:only-of-type {\n",
       "        vertical-align: middle;\n",
       "    }\n",
       "\n",
       "    .dataframe tbody tr th {\n",
       "        vertical-align: top;\n",
       "    }\n",
       "\n",
       "    .dataframe thead th {\n",
       "        text-align: right;\n",
       "    }\n",
       "</style>\n",
       "<table border=\"1\" class=\"dataframe\">\n",
       "  <thead>\n",
       "    <tr style=\"text-align: right;\">\n",
       "      <th></th>\n",
       "      <th>code</th>\n",
       "      <th>theme</th>\n",
       "      <th>subtheme_description</th>\n",
       "      <th>anger</th>\n",
       "      <th>fear</th>\n",
       "      <th>sad</th>\n",
       "      <th>_anger</th>\n",
       "      <th>_fear</th>\n",
       "      <th>_sad</th>\n",
       "    </tr>\n",
       "  </thead>\n",
       "  <tbody>\n",
       "    <tr>\n",
       "      <th>13444</th>\n",
       "      <td>13</td>\n",
       "      <td>Career &amp; Personal Development</td>\n",
       "      <td>Improve training and development opportunities</td>\n",
       "      <td>0</td>\n",
       "      <td>0.828</td>\n",
       "      <td>0</td>\n",
       "      <td>0</td>\n",
       "      <td>1</td>\n",
       "      <td>0</td>\n",
       "    </tr>\n",
       "  </tbody>\n",
       "</table>\n",
       "</div>"
      ],
      "text/plain": [
       "      code                          theme  \\\n",
       "13444   13  Career & Personal Development   \n",
       "\n",
       "                                 subtheme_description anger   fear sad _anger  \\\n",
       "13444  Improve training and development opportunities     0  0.828   0      0   \n",
       "\n",
       "      _fear _sad  \n",
       "13444     1    0  "
      ]
     },
     "metadata": {},
     "output_type": "display_data"
    },
    {
     "name": "stdout",
     "output_type": "stream",
     "text": [
      "\n",
      "\n",
      "Comment\n",
      "-------\n",
      "trauma based training \n",
      "\n",
      "\n",
      "ANGER\n",
      "-----\n",
      "\n",
      "\n",
      "FEAR\n",
      "-----\n",
      "trauma 0.828\n",
      "\n",
      "\n",
      "SAD\n",
      "-----\n",
      "\n",
      "\n"
     ]
    }
   ],
   "source": [
    "src.analysis.emotion_analysis.examine_emotion_scoring(full_scores, \"fear\", lexicon, 13444)"
   ]
  },
  {
   "cell_type": "code",
   "execution_count": 12,
   "metadata": {
    "scrolled": true
   },
   "outputs": [
    {
     "data": {
      "text/html": [
       "<div>\n",
       "<style scoped>\n",
       "    .dataframe tbody tr th:only-of-type {\n",
       "        vertical-align: middle;\n",
       "    }\n",
       "\n",
       "    .dataframe tbody tr th {\n",
       "        vertical-align: top;\n",
       "    }\n",
       "\n",
       "    .dataframe thead th {\n",
       "        text-align: right;\n",
       "    }\n",
       "</style>\n",
       "<table border=\"1\" class=\"dataframe\">\n",
       "  <thead>\n",
       "    <tr style=\"text-align: right;\">\n",
       "      <th></th>\n",
       "      <th>Total Number of:</th>\n",
       "      <th>Count</th>\n",
       "    </tr>\n",
       "  </thead>\n",
       "  <tbody>\n",
       "    <tr>\n",
       "      <th>0</th>\n",
       "      <td>Rows</td>\n",
       "      <td>24468</td>\n",
       "    </tr>\n",
       "    <tr>\n",
       "      <th>1</th>\n",
       "      <td>Unique Comments</td>\n",
       "      <td>14753</td>\n",
       "    </tr>\n",
       "    <tr>\n",
       "      <th>2</th>\n",
       "      <td>Emotionless Comments</td>\n",
       "      <td>9259</td>\n",
       "    </tr>\n",
       "    <tr>\n",
       "      <th>3</th>\n",
       "      <td>Comments with any Anger</td>\n",
       "      <td>9071</td>\n",
       "    </tr>\n",
       "    <tr>\n",
       "      <th>4</th>\n",
       "      <td>Comments with max Anger</td>\n",
       "      <td>1827</td>\n",
       "    </tr>\n",
       "    <tr>\n",
       "      <th>5</th>\n",
       "      <td>Comments with any Fear</td>\n",
       "      <td>11403</td>\n",
       "    </tr>\n",
       "    <tr>\n",
       "      <th>6</th>\n",
       "      <td>Comments with max Fear</td>\n",
       "      <td>3557</td>\n",
       "    </tr>\n",
       "    <tr>\n",
       "      <th>7</th>\n",
       "      <td>Comments with any Sadness</td>\n",
       "      <td>9837</td>\n",
       "    </tr>\n",
       "    <tr>\n",
       "      <th>8</th>\n",
       "      <td>Comments with max Sadness</td>\n",
       "      <td>2694</td>\n",
       "    </tr>\n",
       "  </tbody>\n",
       "</table>\n",
       "</div>"
      ],
      "text/plain": [
       "            Total Number of:  Count\n",
       "0                       Rows  24468\n",
       "1            Unique Comments  14753\n",
       "2       Emotionless Comments   9259\n",
       "3    Comments with any Anger   9071\n",
       "4    Comments with max Anger   1827\n",
       "5     Comments with any Fear  11403\n",
       "6     Comments with max Fear   3557\n",
       "7  Comments with any Sadness   9837\n",
       "8  Comments with max Sadness   2694"
      ]
     },
     "execution_count": 12,
     "metadata": {},
     "output_type": "execute_result"
    }
   ],
   "source": [
    "src.analysis.emotion_analysis.summary(full_scores)"
   ]
  },
  {
   "cell_type": "code",
   "execution_count": 22,
   "metadata": {
    "scrolled": false
   },
   "outputs": [
    {
     "data": {
      "image/png": "[encoded data removed]",
      "text/plain": [
       "<Figure size 432x288 with 1 Axes>"
      ]
     },
     "metadata": {
      "needs_background": "light"
     },
     "output_type": "display_data"
    },
    {
     "data": {
      "image/png": "[encoded data removed]",
      "text/plain": [
       "<Figure size 432x288 with 1 Axes>"
      ]
     },
     "metadata": {
      "needs_background": "light"
     },
     "output_type": "display_data"
    },
    {
     "data": {
      "image/png": "[encoded data removed]",
      "text/plain": [
       "<Figure size 432x288 with 1 Axes>"
      ]
     },
     "metadata": {
      "needs_background": "light"
     },
     "output_type": "display_data"
    },
    {
     "data": {
      "image/png": "[encoded data removed]",
      "text/plain": [
       "<Figure size 432x288 with 1 Axes>"
      ]
     },
     "metadata": {
      "needs_background": "light"
     },
     "output_type": "display_data"
    },
    {
     "data": {
      "image/png": "[encoded data removed]",
      "text/plain": [
       "<Figure size 432x288 with 1 Axes>"
      ]
     },
     "metadata": {
      "needs_background": "light"
     },
     "output_type": "display_data"
    },
    {
     "data": {
      "image/png": "[encoded data removed]",
      "text/plain": [
       "<Figure size 432x288 with 1 Axes>"
      ]
     },
     "metadata": {
      "needs_background": "light"
     },
     "output_type": "display_data"
    },
    {
     "data": {
      "image/png": "[encoded data removed]",
      "text/plain": [
       "<Figure size 432x288 with 1 Axes>"
      ]
     },
     "metadata": {
      "needs_background": "light"
     },
     "output_type": "display_data"
    },
    {
     "data": {
      "image/png": "[encoded data removed]",
      "text/plain": [
       "<Figure size 432x288 with 1 Axes>"
      ]
     },
     "metadata": {
      "needs_background": "light"
     },
     "output_type": "display_data"
    },
    {
     "data": {
      "image/png": "[encoded data removed]",
      "text/plain": [
       "<Figure size 432x288 with 1 Axes>"
      ]
     },
     "metadata": {
      "needs_background": "light"
     },
     "output_type": "display_data"
    },
    {
     "data": {
      "image/png": "[encoded data removed]",
      "text/plain": [
       "<Figure size 432x288 with 1 Axes>"
      ]
     },
     "metadata": {
      "needs_background": "light"
     },
     "output_type": "display_data"
    },
    {
     "data": {
      "image/png": "[encoded data removed]",
      "text/plain": [
       "<Figure size 432x288 with 1 Axes>"
      ]
     },
     "metadata": {
      "needs_background": "light"
     },
     "output_type": "display_data"
    },
    {
     "data": {
      "image/png": "[encoded data removed]",
      "text/plain": [
       "<Figure size 432x288 with 1 Axes>"
      ]
     },
     "metadata": {
      "needs_background": "light"
     },
     "output_type": "display_data"
    }
   ],
   "source": [
    "# to view all the different themes\n",
    "full_scores1 = full_scores.dropna(subset=[\"theme\"])\n",
    "\n",
    "themes = full_scores1[\"theme\"].unique()\n",
    "\n",
    "for theme in themes:\n",
    "    src.analysis.emotion_analysis.plot_emotions(data=full_scores1, \n",
    "                                                      depth=\"theme\", \n",
    "                                                      name=theme)"
   ]
  },
  {
   "cell_type": "code",
   "execution_count": null,
   "metadata": {},
   "outputs": [],
   "source": []
  }
 ],
 "metadata": {
  "kernelspec": {
   "display_name": "Python 3",
   "language": "python",
   "name": "python3"
  },
  "language_info": {
   "codemirror_mode": {
    "name": "ipython",
    "version": 3
   },
   "file_extension": ".py",
   "mimetype": "text/x-python",
   "name": "python",
   "nbconvert_exporter": "python",
   "pygments_lexer": "ipython3",
   "version": "3.7.1"
  }
 },
 "nbformat": 4,
 "nbformat_minor": 2
}
